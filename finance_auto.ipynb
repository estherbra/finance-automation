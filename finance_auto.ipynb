{
 "cells": [
  {
   "cell_type": "code",
   "execution_count": 11,
   "id": "9b182006",
   "metadata": {},
   "outputs": [],
   "source": [
    "import yfinance as yf\n",
    "import pyautogui as bot\n",
    "import time"
   ]
  },
  {
   "cell_type": "code",
   "execution_count": 5,
   "id": "08635a2a",
   "metadata": {},
   "outputs": [
    {
     "data": {
      "text/plain": [
       "<bound method DataFrame.info of                                  Open        High         Low       Close  \\\n",
       "Date                                                                        \n",
       "2022-09-12 00:00:00-04:00  300.720001  305.489990  300.399994  304.420013   \n",
       "2022-09-13 00:00:00-04:00  292.899994  297.399994  290.399994  292.130005   \n",
       "2022-09-14 00:00:00-04:00  292.239990  306.000000  291.640015  302.609985   \n",
       "2022-09-15 00:00:00-04:00  301.829987  309.119995  300.720001  303.750000   \n",
       "2022-09-16 00:00:00-04:00  299.609985  303.709991  295.600006  303.350006   \n",
       "...                               ...         ...         ...         ...   \n",
       "2023-03-06 00:00:00-05:00  198.539993  198.600006  192.300003  193.809998   \n",
       "2023-03-07 00:00:00-05:00  191.380005  194.199997  186.100006  187.710007   \n",
       "2023-03-08 00:00:00-05:00  185.039993  186.500000  180.000000  182.000000   \n",
       "2023-03-09 00:00:00-05:00  180.250000  185.179993  172.509995  172.919998   \n",
       "2023-03-10 00:00:00-05:00  175.130005  178.289993  168.440002  173.389999   \n",
       "\n",
       "                              Volume  \n",
       "Date                                  \n",
       "2022-09-12 00:00:00-04:00   48674600  \n",
       "2022-09-13 00:00:00-04:00   68229600  \n",
       "2022-09-14 00:00:00-04:00   72628700  \n",
       "2022-09-15 00:00:00-04:00   64795500  \n",
       "2022-09-16 00:00:00-04:00   87087800  \n",
       "...                              ...  \n",
       "2023-03-06 00:00:00-05:00  128100100  \n",
       "2023-03-07 00:00:00-05:00  148125800  \n",
       "2023-03-08 00:00:00-05:00  151897800  \n",
       "2023-03-09 00:00:00-05:00  168837500  \n",
       "2023-03-10 00:00:00-05:00  146943692  \n",
       "\n",
       "[125 rows x 5 columns]>"
      ]
     },
     "execution_count": 5,
     "metadata": {},
     "output_type": "execute_result"
    }
   ],
   "source": [
    "#getting the historical OHLCV (Open High Low Close Volume) data for the 6 month period, except of dividends and Stock-splits\n",
    "\n",
    "tsla_data = yf.Ticker(\"TSLA\").history(period = '6mo', actions=False)\n",
    "tsla_data.info"
   ]
  },
  {
   "cell_type": "code",
   "execution_count": 7,
   "id": "0cf486c3",
   "metadata": {},
   "outputs": [
    {
     "data": {
      "text/plain": [
       "Date\n",
       "2022-09-12 00:00:00-04:00    304.420013\n",
       "2022-09-13 00:00:00-04:00    292.130005\n",
       "2022-09-14 00:00:00-04:00    302.609985\n",
       "2022-09-15 00:00:00-04:00    303.750000\n",
       "2022-09-16 00:00:00-04:00    303.350006\n",
       "                                ...    \n",
       "2023-03-06 00:00:00-05:00    193.809998\n",
       "2023-03-07 00:00:00-05:00    187.710007\n",
       "2023-03-08 00:00:00-05:00    182.000000\n",
       "2023-03-09 00:00:00-05:00    172.919998\n",
       "2023-03-10 00:00:00-05:00    173.389999\n",
       "Name: Close, Length: 125, dtype: float64"
      ]
     },
     "execution_count": 7,
     "metadata": {},
     "output_type": "execute_result"
    }
   ],
   "source": [
    "#get only Close Column data\n",
    "close_data = tsla_data.Close\n",
    "tsla_data.Close"
   ]
  },
  {
   "cell_type": "code",
   "execution_count": 8,
   "id": "ef50b8a1",
   "metadata": {},
   "outputs": [],
   "source": [
    "#select maximums, minimums and current value from Close Column\n",
    "max_tsla_close = close_data.max()\n",
    "min_tsla_close = close_data.min()\n",
    "last_tsla_close = close_data[-1]"
   ]
  },
  {
   "cell_type": "code",
   "execution_count": 10,
   "id": "66ecfafc",
   "metadata": {},
   "outputs": [
    {
     "name": "stdout",
     "output_type": "stream",
     "text": [
      "173.38999938964844\n"
     ]
    }
   ],
   "source": [
    "print (last_tsla_close)"
   ]
  },
  {
   "cell_type": "code",
   "execution_count": 20,
   "id": "dbd741c9",
   "metadata": {},
   "outputs": [],
   "source": [
    "message = f\"\"\"\n",
    "Hi, hope you are doing well.\n",
    "\n",
    "Here are the current tesla closing data requested, as well as the highest and lowest of the last 6 months.\n",
    "\n",
    "maximum quote: R${round(max_tsla_close)}\n",
    "minimum quote: R${round(min_tsla_close)}\n",
    "last quote: R${round(last_tsla_close)}\n",
    "\n",
    "If you need anything else, just let me know.\n",
    "\n",
    "\"\"\""
   ]
  },
  {
   "cell_type": "code",
   "execution_count": 28,
   "id": "cb1fb813",
   "metadata": {},
   "outputs": [],
   "source": [
    "#starting process of opening email and sending message\n",
    "bot.hotkey(\"ctrl\",\"t\")\n",
    "bot.write(\"www.gmail.com\")\n",
    "bot.sleep(2)\n",
    "bot.press(\"enter\")\n",
    "bot.sleep(8)\n",
    "bot.click(x=74, y=166)\n",
    "bot.sleep(5)\n",
    "bot.write('raulvictor00@outlook.com')\n",
    "bot.sleep(2)\n",
    "bot.press('enter')\n",
    "bot.sleep(5)\n",
    "bot.press('tab')\n",
    "bot.sleep(5)\n",
    "bot.write('Current tesla closing data')\n",
    "bot.sleep(5)\n",
    "bot.press('tab')\n",
    "bot.sleep(5)\n",
    "bot.write(message)\n",
    "bot.sleep(3)\n",
    "bot.hotkey('ctrl', 'enter')"
   ]
  },
  {
   "cell_type": "code",
   "execution_count": null,
   "id": "f9fbb7c9",
   "metadata": {},
   "outputs": [],
   "source": []
  }
 ],
 "metadata": {
  "kernelspec": {
   "display_name": "Python 3 (ipykernel)",
   "language": "python",
   "name": "python3"
  },
  "language_info": {
   "codemirror_mode": {
    "name": "ipython",
    "version": 3
   },
   "file_extension": ".py",
   "mimetype": "text/x-python",
   "name": "python",
   "nbconvert_exporter": "python",
   "pygments_lexer": "ipython3",
   "version": "3.10.6"
  }
 },
 "nbformat": 4,
 "nbformat_minor": 5
}
